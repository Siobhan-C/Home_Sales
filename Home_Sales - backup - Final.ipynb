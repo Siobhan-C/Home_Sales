{
 "cells": [
  {
   "cell_type": "code",
   "execution_count": 1,
   "metadata": {
    "colab": {
     "base_uri": "https://localhost:8080/"
    },
    "id": "a_KW73O2e3dw",
    "outputId": "fa5fd2b3-e2de-491b-ee1c-405317ba7ebc"
   },
   "outputs": [],
   "source": [
    "# Import findspark and initialize. \n",
    "import findspark\n",
    "findspark.init()"
   ]
  },
  {
   "cell_type": "code",
   "execution_count": 2,
   "metadata": {
    "id": "2XbWNf1Te5fM"
   },
   "outputs": [],
   "source": [
    "# Import packages\n",
    "from pyspark.sql import SparkSession\n",
    "import time\n",
    "\n",
    "# Create a SparkSession\n",
    "spark = SparkSession.builder.appName(\"SparkSQL\").getOrCreate()"
   ]
  },
  {
   "cell_type": "code",
   "execution_count": 3,
   "metadata": {
    "colab": {
     "base_uri": "https://localhost:8080/"
    },
    "id": "wOJqxG_RPSwp",
    "outputId": "7857ef9f-5b04-405d-f5aa-e535dfe7870c"
   },
   "outputs": [],
   "source": [
    "# 1. Read in the AWS S3 bucket into a DataFrame.\n",
    "from pyspark import SparkFiles\n",
    "url = \"https://2u-data-curriculum-team.s3.amazonaws.com/dataviz-classroom/v1.2/22-big-data/home_sales_revised.csv\"\n",
    "\n"
   ]
  },
  {
   "cell_type": "code",
   "execution_count": 4,
   "metadata": {
    "id": "RoljcJ7WPpnm"
   },
   "outputs": [
    {
     "name": "stdout",
     "output_type": "stream",
     "text": [
      "                                     id        date  date_built   price  \\\n",
      "0  f8a53099-ba1c-47d6-9c31-7398aa8f6089  2022-04-08        2016  936923   \n",
      "1  7530a2d8-1ae3-4517-9f4a-befe060c4353  2021-06-13        2013  379628   \n",
      "2  43de979c-0bf0-4c9f-85ef-96dc27b258d5  2019-04-12        2014  417866   \n",
      "3  b672c137-b88c-48bf-9f18-d0a4ac62fb8b  2019-10-16        2016  239895   \n",
      "4  e0726d4d-d595-4074-8283-4139a54d0d63  2022-01-08        2017  424418   \n",
      "\n",
      "   bedrooms  bathrooms  sqft_living  sqft_lot  floors  waterfront  view  \n",
      "0         4          3         3167     11733       2           1    76  \n",
      "1         2          2         2235     14384       1           0    23  \n",
      "2         2          2         2127     10575       2           0     0  \n",
      "3         2          2         1631     11149       2           0     0  \n",
      "4         3          2         2249     13878       2           0     4  \n",
      "+--------------------+----------+----------+------+--------+---------+-----------+--------+------+----------+----+\n",
      "|                  id|      date|date_built| price|bedrooms|bathrooms|sqft_living|sqft_lot|floors|waterfront|view|\n",
      "+--------------------+----------+----------+------+--------+---------+-----------+--------+------+----------+----+\n",
      "|f8a53099-ba1c-47d...|2022-04-08|      2016|936923|       4|        3|       3167|   11733|     2|         1|  76|\n",
      "|7530a2d8-1ae3-451...|2021-06-13|      2013|379628|       2|        2|       2235|   14384|     1|         0|  23|\n",
      "|43de979c-0bf0-4c9...|2019-04-12|      2014|417866|       2|        2|       2127|   10575|     2|         0|   0|\n",
      "|b672c137-b88c-48b...|2019-10-16|      2016|239895|       2|        2|       1631|   11149|     2|         0|   0|\n",
      "|e0726d4d-d595-407...|2022-01-08|      2017|424418|       3|        2|       2249|   13878|     2|         0|   4|\n",
      "|5aa00529-0533-46b...|2019-01-30|      2017|218712|       2|        3|       1965|   14375|     2|         0|   7|\n",
      "|131492a1-72e2-4a8...|2020-02-08|      2017|419199|       2|        3|       2062|    8876|     2|         0|   6|\n",
      "|8d54a71b-c520-44e...|2019-07-21|      2010|323956|       2|        3|       1506|   11816|     1|         0|  25|\n",
      "|e81aacfe-17fe-46b...|2020-06-16|      2016|181925|       3|        3|       2137|   11709|     2|         0|  22|\n",
      "|2ed8d509-7372-46d...|2021-08-06|      2015|258710|       3|        3|       1918|    9666|     1|         0|  25|\n",
      "|f876d86f-3c9f-42b...|2019-02-27|      2011|167864|       3|        3|       2471|   13924|     2|         0|  15|\n",
      "|0a2bd445-8508-4d8...|2021-12-30|      2014|337527|       2|        3|       1926|   12556|     1|         0|  23|\n",
      "|941bad30-eb49-4a7...|2020-05-09|      2015|229896|       3|        3|       2197|    8641|     1|         0|   3|\n",
      "|dd61eb34-6589-4c0...|2021-07-25|      2016|210247|       3|        2|       1672|   11986|     2|         0|  28|\n",
      "|f1e4cef7-d151-439...|2019-02-01|      2011|398667|       2|        3|       2331|   11356|     1|         0|   7|\n",
      "|ea620c7b-c2f7-4c6...|2021-05-31|      2011|437958|       3|        3|       2356|   11052|     1|         0|  26|\n",
      "|f233cb41-6f33-4b0...|2021-07-18|      2016|437375|       4|        3|       1704|   11721|     2|         0|  34|\n",
      "|c797ca12-52cd-4b1...|2019-06-08|      2015|288650|       2|        3|       2100|   10419|     2|         0|   7|\n",
      "|0cfe57f3-28c2-472...|2019-10-04|      2015|308313|       3|        3|       1960|    9453|     2|         0|   2|\n",
      "|4566cd2a-ac6e-435...|2019-07-15|      2016|177541|       3|        3|       2130|   10517|     2|         0|  25|\n",
      "+--------------------+----------+----------+------+--------+---------+-----------+--------+------+----------+----+\n",
      "only showing top 20 rows\n",
      "\n"
     ]
    }
   ],
   "source": [
    "# 2. Create a temporary view of the DataFrame.\n",
    "import pandas as pd\n",
    "\n",
    "# Load the CSV file using Pandas\n",
    "pdf = pd.read_csv(url)\n",
    "\n",
    "# Show the first few rows of the Pandas DataFrame\n",
    "print(pdf.head())\n",
    "\n",
    "# Convert Pandas DataFrame to Spark DataFrame\n",
    "df = spark.createDataFrame(pdf)\n",
    "\n",
    "# Show the first few rows of the Spark DataFrame\n",
    "df.show()\n",
    "\n",
    "# Create a temporary view of the DataFrame\n",
    "df.createOrReplaceTempView(\"home_sales\")\n",
    "\n"
   ]
  },
  {
   "cell_type": "code",
   "execution_count": 5,
   "metadata": {
    "colab": {
     "base_uri": "https://localhost:8080/"
    },
    "id": "L6fkwOeOmqvq",
    "outputId": "bdded620-79c4-488d-c7a5-91c6799c419e"
   },
   "outputs": [
    {
     "name": "stdout",
     "output_type": "stream",
     "text": [
      "+----+---------+\n",
      "|year|avg_price|\n",
      "+----+---------+\n",
      "|2019| 300263.7|\n",
      "|2020|298353.78|\n",
      "|2021|301819.44|\n",
      "|2022|296363.88|\n",
      "+----+---------+\n",
      "\n"
     ]
    }
   ],
   "source": [
    "# 3. What is the average price for a four bedroom house sold per year, rounded to two decimal places?\n",
    "query1 = \"\"\"\n",
    "    SELECT year(date) AS year, ROUND(AVG(price), 2) AS avg_price\n",
    "    FROM home_sales\n",
    "    WHERE bedrooms = 4\n",
    "    GROUP BY year(date)\n",
    "    ORDER BY year(date)\n",
    "\"\"\"\n",
    "result1 = spark.sql(query1)\n",
    "result1.show()\n",
    "\n"
   ]
  },
  {
   "cell_type": "code",
   "execution_count": 13,
   "metadata": {
    "colab": {
     "base_uri": "https://localhost:8080/"
    },
    "id": "l8p_tUS8h8it",
    "outputId": "65806e5f-6262-41c0-ff65-5107464e5c4d"
   },
   "outputs": [
    {
     "name": "stdout",
     "output_type": "stream",
     "text": [
      "root\n",
      " |-- id: string (nullable = true)\n",
      " |-- date: string (nullable = true)\n",
      " |-- date_built: long (nullable = true)\n",
      " |-- price: long (nullable = true)\n",
      " |-- bedrooms: long (nullable = true)\n",
      " |-- bathrooms: long (nullable = true)\n",
      " |-- sqft_living: long (nullable = true)\n",
      " |-- sqft_lot: long (nullable = true)\n",
      " |-- floors: long (nullable = true)\n",
      " |-- waterfront: long (nullable = true)\n",
      " |-- view: long (nullable = true)\n",
      "\n"
     ]
    },
    {
     "ename": "AnalysisException",
     "evalue": "[UNRESOLVED_COLUMN.WITH_SUGGESTION] A column or function parameter with name `yr_built` cannot be resolved. Did you mean one of the following? [`date_built`, `id`, `date`, `floors`, `price`].; line 2 pos 11;\n'Sort ['yr_built ASC NULLS FIRST], true\n+- 'Aggregate ['yr_built], ['yr_built AS date_built#506, round(avg(price#3L), 2) AS avg_price#507]\n   +- Filter ((bedrooms#4L = cast(3 as bigint)) AND (bathrooms#5L = cast(3 as bigint)))\n      +- SubqueryAlias home_sales\n         +- View (`home_sales`, [id#0,date#1,date_built#2L,price#3L,bedrooms#4L,bathrooms#5L,sqft_living#6L,sqft_lot#7L,floors#8L,waterfront#9L,view#10L])\n            +- LogicalRDD [id#0, date#1, date_built#2L, price#3L, bedrooms#4L, bathrooms#5L, sqft_living#6L, sqft_lot#7L, floors#8L, waterfront#9L, view#10L], false\n",
     "output_type": "error",
     "traceback": [
      "\u001b[1;31m---------------------------------------------------------------------------\u001b[0m",
      "\u001b[1;31mAnalysisException\u001b[0m                         Traceback (most recent call last)",
      "Cell \u001b[1;32mIn[13], line 15\u001b[0m\n\u001b[0;32m      6\u001b[0m \u001b[38;5;66;03m# Adjust the query based on the correct column names\u001b[39;00m\n\u001b[0;32m      7\u001b[0m query2 \u001b[38;5;241m=\u001b[39m \u001b[38;5;124m\"\"\"\u001b[39m\n\u001b[0;32m      8\u001b[0m \u001b[38;5;124m    SELECT yr_built AS date_built, ROUND(AVG(price), 2) AS avg_price\u001b[39m\n\u001b[0;32m      9\u001b[0m \u001b[38;5;124m    FROM home_sales\u001b[39m\n\u001b[1;32m   (...)\u001b[0m\n\u001b[0;32m     12\u001b[0m \u001b[38;5;124m    ORDER BY yr_built\u001b[39m\n\u001b[0;32m     13\u001b[0m \u001b[38;5;124m\"\"\"\u001b[39m\n\u001b[1;32m---> 15\u001b[0m result2 \u001b[38;5;241m=\u001b[39m spark\u001b[38;5;241m.\u001b[39msql(query2)\n\u001b[0;32m     16\u001b[0m result2\u001b[38;5;241m.\u001b[39mshow()\n",
      "File \u001b[1;32mc:\\Users\\siobh\\anaconda3\\Lib\\site-packages\\pyspark\\sql\\session.py:1631\u001b[0m, in \u001b[0;36mSparkSession.sql\u001b[1;34m(self, sqlQuery, args, **kwargs)\u001b[0m\n\u001b[0;32m   1627\u001b[0m         \u001b[38;5;28;01massert\u001b[39;00m \u001b[38;5;28mself\u001b[39m\u001b[38;5;241m.\u001b[39m_jvm \u001b[38;5;129;01mis\u001b[39;00m \u001b[38;5;129;01mnot\u001b[39;00m \u001b[38;5;28;01mNone\u001b[39;00m\n\u001b[0;32m   1628\u001b[0m         litArgs \u001b[38;5;241m=\u001b[39m \u001b[38;5;28mself\u001b[39m\u001b[38;5;241m.\u001b[39m_jvm\u001b[38;5;241m.\u001b[39mPythonUtils\u001b[38;5;241m.\u001b[39mtoArray(\n\u001b[0;32m   1629\u001b[0m             [_to_java_column(lit(v)) \u001b[38;5;28;01mfor\u001b[39;00m v \u001b[38;5;129;01min\u001b[39;00m (args \u001b[38;5;129;01mor\u001b[39;00m [])]\n\u001b[0;32m   1630\u001b[0m         )\n\u001b[1;32m-> 1631\u001b[0m     \u001b[38;5;28;01mreturn\u001b[39;00m DataFrame(\u001b[38;5;28mself\u001b[39m\u001b[38;5;241m.\u001b[39m_jsparkSession\u001b[38;5;241m.\u001b[39msql(sqlQuery, litArgs), \u001b[38;5;28mself\u001b[39m)\n\u001b[0;32m   1632\u001b[0m \u001b[38;5;28;01mfinally\u001b[39;00m:\n\u001b[0;32m   1633\u001b[0m     \u001b[38;5;28;01mif\u001b[39;00m \u001b[38;5;28mlen\u001b[39m(kwargs) \u001b[38;5;241m>\u001b[39m \u001b[38;5;241m0\u001b[39m:\n",
      "File \u001b[1;32mc:\\Users\\siobh\\anaconda3\\Lib\\site-packages\\py4j\\java_gateway.py:1322\u001b[0m, in \u001b[0;36mJavaMember.__call__\u001b[1;34m(self, *args)\u001b[0m\n\u001b[0;32m   1316\u001b[0m command \u001b[38;5;241m=\u001b[39m proto\u001b[38;5;241m.\u001b[39mCALL_COMMAND_NAME \u001b[38;5;241m+\u001b[39m\\\n\u001b[0;32m   1317\u001b[0m     \u001b[38;5;28mself\u001b[39m\u001b[38;5;241m.\u001b[39mcommand_header \u001b[38;5;241m+\u001b[39m\\\n\u001b[0;32m   1318\u001b[0m     args_command \u001b[38;5;241m+\u001b[39m\\\n\u001b[0;32m   1319\u001b[0m     proto\u001b[38;5;241m.\u001b[39mEND_COMMAND_PART\n\u001b[0;32m   1321\u001b[0m answer \u001b[38;5;241m=\u001b[39m \u001b[38;5;28mself\u001b[39m\u001b[38;5;241m.\u001b[39mgateway_client\u001b[38;5;241m.\u001b[39msend_command(command)\n\u001b[1;32m-> 1322\u001b[0m return_value \u001b[38;5;241m=\u001b[39m get_return_value(\n\u001b[0;32m   1323\u001b[0m     answer, \u001b[38;5;28mself\u001b[39m\u001b[38;5;241m.\u001b[39mgateway_client, \u001b[38;5;28mself\u001b[39m\u001b[38;5;241m.\u001b[39mtarget_id, \u001b[38;5;28mself\u001b[39m\u001b[38;5;241m.\u001b[39mname)\n\u001b[0;32m   1325\u001b[0m \u001b[38;5;28;01mfor\u001b[39;00m temp_arg \u001b[38;5;129;01min\u001b[39;00m temp_args:\n\u001b[0;32m   1326\u001b[0m     \u001b[38;5;28;01mif\u001b[39;00m \u001b[38;5;28mhasattr\u001b[39m(temp_arg, \u001b[38;5;124m\"\u001b[39m\u001b[38;5;124m_detach\u001b[39m\u001b[38;5;124m\"\u001b[39m):\n",
      "File \u001b[1;32mc:\\Users\\siobh\\anaconda3\\Lib\\site-packages\\pyspark\\errors\\exceptions\\captured.py:185\u001b[0m, in \u001b[0;36mcapture_sql_exception.<locals>.deco\u001b[1;34m(*a, **kw)\u001b[0m\n\u001b[0;32m    181\u001b[0m converted \u001b[38;5;241m=\u001b[39m convert_exception(e\u001b[38;5;241m.\u001b[39mjava_exception)\n\u001b[0;32m    182\u001b[0m \u001b[38;5;28;01mif\u001b[39;00m \u001b[38;5;129;01mnot\u001b[39;00m \u001b[38;5;28misinstance\u001b[39m(converted, UnknownException):\n\u001b[0;32m    183\u001b[0m     \u001b[38;5;66;03m# Hide where the exception came from that shows a non-Pythonic\u001b[39;00m\n\u001b[0;32m    184\u001b[0m     \u001b[38;5;66;03m# JVM exception message.\u001b[39;00m\n\u001b[1;32m--> 185\u001b[0m     \u001b[38;5;28;01mraise\u001b[39;00m converted \u001b[38;5;28;01mfrom\u001b[39;00m \u001b[38;5;28;01mNone\u001b[39;00m\n\u001b[0;32m    186\u001b[0m \u001b[38;5;28;01melse\u001b[39;00m:\n\u001b[0;32m    187\u001b[0m     \u001b[38;5;28;01mraise\u001b[39;00m\n",
      "\u001b[1;31mAnalysisException\u001b[0m: [UNRESOLVED_COLUMN.WITH_SUGGESTION] A column or function parameter with name `yr_built` cannot be resolved. Did you mean one of the following? [`date_built`, `id`, `date`, `floors`, `price`].; line 2 pos 11;\n'Sort ['yr_built ASC NULLS FIRST], true\n+- 'Aggregate ['yr_built], ['yr_built AS date_built#506, round(avg(price#3L), 2) AS avg_price#507]\n   +- Filter ((bedrooms#4L = cast(3 as bigint)) AND (bathrooms#5L = cast(3 as bigint)))\n      +- SubqueryAlias home_sales\n         +- View (`home_sales`, [id#0,date#1,date_built#2L,price#3L,bedrooms#4L,bathrooms#5L,sqft_living#6L,sqft_lot#7L,floors#8L,waterfront#9L,view#10L])\n            +- LogicalRDD [id#0, date#1, date_built#2L, price#3L, bedrooms#4L, bathrooms#5L, sqft_living#6L, sqft_lot#7L, floors#8L, waterfront#9L, view#10L], false\n"
     ]
    }
   ],
   "source": [
    "# 4. What is the average price of a home for each year the home was built,\n",
    "# that have 3 bedrooms and 3 bathrooms, rounded to two decimal places\n",
    "# Print the schema of the DataFrame to verify column names\n",
    "df.printSchema()\n",
    "\n",
    "# Adjust the query based on the correct column names\n",
    "query2 = \"\"\"\n",
    "    SELECT yr_built AS date_built, ROUND(AVG(price), 2) AS avg_price\n",
    "    FROM home_sales\n",
    "    WHERE bedrooms = 3 AND bathrooms = 3\n",
    "    GROUP BY yr_built\n",
    "    ORDER BY yr_built\n",
    "\"\"\"\n",
    "\n",
    "result2 = spark.sql(query2)\n",
    "result2.show()\n",
    "\n",
    "\n"
   ]
  },
  {
   "cell_type": "code",
   "execution_count": 8,
   "metadata": {
    "colab": {
     "base_uri": "https://localhost:8080/"
    },
    "id": "Y-Eytz64liDU",
    "outputId": "17119810-56ad-40c3-de5e-c3db57e43bcc"
   },
   "outputs": [
    {
     "ename": "AnalysisException",
     "evalue": "[UNRESOLVED_COLUMN.WITH_SUGGESTION] A column or function parameter with name `yr_built` cannot be resolved. Did you mean one of the following? [`date_built`, `id`, `date`, `floors`, `price`].; line 2 pos 11;\n'Sort ['yr_built ASC NULLS FIRST], true\n+- 'Aggregate ['yr_built], ['yr_built AS date_built#94, round(avg(price#3L), 2) AS avg_price#95]\n   +- Filter (((bedrooms#4L = cast(3 as bigint)) AND (bathrooms#5L = cast(3 as bigint))) AND ((floors#8L = cast(2 as bigint)) AND (sqft_living#6L >= cast(2000 as bigint))))\n      +- SubqueryAlias home_sales\n         +- View (`home_sales`, [id#0,date#1,date_built#2L,price#3L,bedrooms#4L,bathrooms#5L,sqft_living#6L,sqft_lot#7L,floors#8L,waterfront#9L,view#10L])\n            +- LogicalRDD [id#0, date#1, date_built#2L, price#3L, bedrooms#4L, bathrooms#5L, sqft_living#6L, sqft_lot#7L, floors#8L, waterfront#9L, view#10L], false\n",
     "output_type": "error",
     "traceback": [
      "\u001b[1;31m---------------------------------------------------------------------------\u001b[0m",
      "\u001b[1;31mAnalysisException\u001b[0m                         Traceback (most recent call last)",
      "Cell \u001b[1;32mIn[8], line 11\u001b[0m\n\u001b[0;32m      1\u001b[0m \u001b[38;5;66;03m# 5. What is the average price of a home for each year the home was built,\u001b[39;00m\n\u001b[0;32m      2\u001b[0m \u001b[38;5;66;03m# that have 3 bedrooms, 3 bathrooms, with two floors,\u001b[39;00m\n\u001b[0;32m      3\u001b[0m \u001b[38;5;66;03m# and are greater than or equal to 2,000 square feet, rounded to two decimal places?\u001b[39;00m\n\u001b[0;32m      4\u001b[0m query3 \u001b[38;5;241m=\u001b[39m \u001b[38;5;124m\"\"\"\u001b[39m\n\u001b[0;32m      5\u001b[0m \u001b[38;5;124m    SELECT yr_built AS date_built, ROUND(AVG(price), 2) AS avg_price\u001b[39m\n\u001b[0;32m      6\u001b[0m \u001b[38;5;124m    FROM home_sales\u001b[39m\n\u001b[1;32m   (...)\u001b[0m\n\u001b[0;32m      9\u001b[0m \u001b[38;5;124m    ORDER BY yr_built\u001b[39m\n\u001b[0;32m     10\u001b[0m \u001b[38;5;124m\"\"\"\u001b[39m\n\u001b[1;32m---> 11\u001b[0m result3 \u001b[38;5;241m=\u001b[39m spark\u001b[38;5;241m.\u001b[39msql(query3)\n\u001b[0;32m     12\u001b[0m result3\u001b[38;5;241m.\u001b[39mshow()\n",
      "File \u001b[1;32mc:\\Users\\siobh\\anaconda3\\Lib\\site-packages\\pyspark\\sql\\session.py:1631\u001b[0m, in \u001b[0;36mSparkSession.sql\u001b[1;34m(self, sqlQuery, args, **kwargs)\u001b[0m\n\u001b[0;32m   1627\u001b[0m         \u001b[38;5;28;01massert\u001b[39;00m \u001b[38;5;28mself\u001b[39m\u001b[38;5;241m.\u001b[39m_jvm \u001b[38;5;129;01mis\u001b[39;00m \u001b[38;5;129;01mnot\u001b[39;00m \u001b[38;5;28;01mNone\u001b[39;00m\n\u001b[0;32m   1628\u001b[0m         litArgs \u001b[38;5;241m=\u001b[39m \u001b[38;5;28mself\u001b[39m\u001b[38;5;241m.\u001b[39m_jvm\u001b[38;5;241m.\u001b[39mPythonUtils\u001b[38;5;241m.\u001b[39mtoArray(\n\u001b[0;32m   1629\u001b[0m             [_to_java_column(lit(v)) \u001b[38;5;28;01mfor\u001b[39;00m v \u001b[38;5;129;01min\u001b[39;00m (args \u001b[38;5;129;01mor\u001b[39;00m [])]\n\u001b[0;32m   1630\u001b[0m         )\n\u001b[1;32m-> 1631\u001b[0m     \u001b[38;5;28;01mreturn\u001b[39;00m DataFrame(\u001b[38;5;28mself\u001b[39m\u001b[38;5;241m.\u001b[39m_jsparkSession\u001b[38;5;241m.\u001b[39msql(sqlQuery, litArgs), \u001b[38;5;28mself\u001b[39m)\n\u001b[0;32m   1632\u001b[0m \u001b[38;5;28;01mfinally\u001b[39;00m:\n\u001b[0;32m   1633\u001b[0m     \u001b[38;5;28;01mif\u001b[39;00m \u001b[38;5;28mlen\u001b[39m(kwargs) \u001b[38;5;241m>\u001b[39m \u001b[38;5;241m0\u001b[39m:\n",
      "File \u001b[1;32mc:\\Users\\siobh\\anaconda3\\Lib\\site-packages\\py4j\\java_gateway.py:1322\u001b[0m, in \u001b[0;36mJavaMember.__call__\u001b[1;34m(self, *args)\u001b[0m\n\u001b[0;32m   1316\u001b[0m command \u001b[38;5;241m=\u001b[39m proto\u001b[38;5;241m.\u001b[39mCALL_COMMAND_NAME \u001b[38;5;241m+\u001b[39m\\\n\u001b[0;32m   1317\u001b[0m     \u001b[38;5;28mself\u001b[39m\u001b[38;5;241m.\u001b[39mcommand_header \u001b[38;5;241m+\u001b[39m\\\n\u001b[0;32m   1318\u001b[0m     args_command \u001b[38;5;241m+\u001b[39m\\\n\u001b[0;32m   1319\u001b[0m     proto\u001b[38;5;241m.\u001b[39mEND_COMMAND_PART\n\u001b[0;32m   1321\u001b[0m answer \u001b[38;5;241m=\u001b[39m \u001b[38;5;28mself\u001b[39m\u001b[38;5;241m.\u001b[39mgateway_client\u001b[38;5;241m.\u001b[39msend_command(command)\n\u001b[1;32m-> 1322\u001b[0m return_value \u001b[38;5;241m=\u001b[39m get_return_value(\n\u001b[0;32m   1323\u001b[0m     answer, \u001b[38;5;28mself\u001b[39m\u001b[38;5;241m.\u001b[39mgateway_client, \u001b[38;5;28mself\u001b[39m\u001b[38;5;241m.\u001b[39mtarget_id, \u001b[38;5;28mself\u001b[39m\u001b[38;5;241m.\u001b[39mname)\n\u001b[0;32m   1325\u001b[0m \u001b[38;5;28;01mfor\u001b[39;00m temp_arg \u001b[38;5;129;01min\u001b[39;00m temp_args:\n\u001b[0;32m   1326\u001b[0m     \u001b[38;5;28;01mif\u001b[39;00m \u001b[38;5;28mhasattr\u001b[39m(temp_arg, \u001b[38;5;124m\"\u001b[39m\u001b[38;5;124m_detach\u001b[39m\u001b[38;5;124m\"\u001b[39m):\n",
      "File \u001b[1;32mc:\\Users\\siobh\\anaconda3\\Lib\\site-packages\\pyspark\\errors\\exceptions\\captured.py:185\u001b[0m, in \u001b[0;36mcapture_sql_exception.<locals>.deco\u001b[1;34m(*a, **kw)\u001b[0m\n\u001b[0;32m    181\u001b[0m converted \u001b[38;5;241m=\u001b[39m convert_exception(e\u001b[38;5;241m.\u001b[39mjava_exception)\n\u001b[0;32m    182\u001b[0m \u001b[38;5;28;01mif\u001b[39;00m \u001b[38;5;129;01mnot\u001b[39;00m \u001b[38;5;28misinstance\u001b[39m(converted, UnknownException):\n\u001b[0;32m    183\u001b[0m     \u001b[38;5;66;03m# Hide where the exception came from that shows a non-Pythonic\u001b[39;00m\n\u001b[0;32m    184\u001b[0m     \u001b[38;5;66;03m# JVM exception message.\u001b[39;00m\n\u001b[1;32m--> 185\u001b[0m     \u001b[38;5;28;01mraise\u001b[39;00m converted \u001b[38;5;28;01mfrom\u001b[39;00m \u001b[38;5;28;01mNone\u001b[39;00m\n\u001b[0;32m    186\u001b[0m \u001b[38;5;28;01melse\u001b[39;00m:\n\u001b[0;32m    187\u001b[0m     \u001b[38;5;28;01mraise\u001b[39;00m\n",
      "\u001b[1;31mAnalysisException\u001b[0m: [UNRESOLVED_COLUMN.WITH_SUGGESTION] A column or function parameter with name `yr_built` cannot be resolved. Did you mean one of the following? [`date_built`, `id`, `date`, `floors`, `price`].; line 2 pos 11;\n'Sort ['yr_built ASC NULLS FIRST], true\n+- 'Aggregate ['yr_built], ['yr_built AS date_built#94, round(avg(price#3L), 2) AS avg_price#95]\n   +- Filter (((bedrooms#4L = cast(3 as bigint)) AND (bathrooms#5L = cast(3 as bigint))) AND ((floors#8L = cast(2 as bigint)) AND (sqft_living#6L >= cast(2000 as bigint))))\n      +- SubqueryAlias home_sales\n         +- View (`home_sales`, [id#0,date#1,date_built#2L,price#3L,bedrooms#4L,bathrooms#5L,sqft_living#6L,sqft_lot#7L,floors#8L,waterfront#9L,view#10L])\n            +- LogicalRDD [id#0, date#1, date_built#2L, price#3L, bedrooms#4L, bathrooms#5L, sqft_living#6L, sqft_lot#7L, floors#8L, waterfront#9L, view#10L], false\n"
     ]
    }
   ],
   "source": [
    "# 5. What is the average price of a home for each year the home was built,\n",
    "# that have 3 bedrooms, 3 bathrooms, with two floors,\n",
    "# and are greater than or equal to 2,000 square feet, rounded to two decimal places?\n",
    "query3 = \"\"\"\n",
    "    SELECT yr_built AS date_built, ROUND(AVG(price), 2) AS avg_price\n",
    "    FROM home_sales\n",
    "    WHERE bedrooms = 3 AND bathrooms = 3 AND floors = 2 AND sqft_living >= 2000\n",
    "    GROUP BY yr_built\n",
    "    ORDER BY yr_built\n",
    "\"\"\"\n",
    "result3 = spark.sql(query3)\n",
    "result3.show()\n",
    "\n"
   ]
  },
  {
   "cell_type": "code",
   "execution_count": 9,
   "metadata": {
    "colab": {
     "base_uri": "https://localhost:8080/"
    },
    "id": "GUrfgOX1pCRd",
    "outputId": "17c25774-855e-4290-a4bd-a04902bdc13a"
   },
   "outputs": [
    {
     "name": "stdout",
     "output_type": "stream",
     "text": [
      "+----+----------+\n",
      "|view| avg_price|\n",
      "+----+----------+\n",
      "|  91|1137372.73|\n",
      "|  97|1129040.15|\n",
      "|  84|1117233.13|\n",
      "|  75|1114042.94|\n",
      "|  89|1107839.15|\n",
      "|  78|1080649.37|\n",
      "|  77|1076205.56|\n",
      "|  87| 1072285.2|\n",
      "|  86|1070444.25|\n",
      "|  82| 1063498.0|\n",
      "|  90|1062654.16|\n",
      "|  99|1061201.42|\n",
      "|  76|1058802.78|\n",
      "|  85|1056336.74|\n",
      "|  95| 1054325.6|\n",
      "|  98|1053739.33|\n",
      "|  81|1053472.79|\n",
      "|  83|1033965.93|\n",
      "|  94| 1033536.2|\n",
      "|  88|1031719.35|\n",
      "+----+----------+\n",
      "only showing top 20 rows\n",
      "\n",
      "Uncached query runtime: 9.97 seconds\n"
     ]
    }
   ],
   "source": [
    "# 6. What is the average price of a home per \"view\" rating, rounded to two decimal places,\n",
    "# having an average home price greater than or equal to $350,000? Order by descending view rating. \n",
    "# Although this is a small dataset, determine the run time for this query.\n",
    "\n",
    "import time\n",
    "\n",
    "start_time = time.time()\n",
    "\n",
    "query4 = \"\"\"\n",
    "    SELECT view, ROUND(AVG(price), 2) AS avg_price\n",
    "    FROM home_sales\n",
    "    GROUP BY view\n",
    "    HAVING AVG(price) >= 350000\n",
    "    ORDER BY avg_price DESC\n",
    "\"\"\"\n",
    "result4 = spark.sql(query4)\n",
    "result4.show()\n",
    "\n",
    "end_time = time.time()\n",
    "uncached_runtime = end_time - start_time\n",
    "print(f\"Uncached query runtime: {uncached_runtime:.2f} seconds\")\n"
   ]
  },
  {
   "cell_type": "code",
   "execution_count": 10,
   "metadata": {
    "colab": {
     "base_uri": "https://localhost:8080/"
    },
    "id": "KAhk3ZD2tFy8",
    "outputId": "0a8f132d-40a8-4bd4-b5f2-2847e98427f5"
   },
   "outputs": [
    {
     "name": "stdout",
     "output_type": "stream",
     "text": [
      "Is 'home_sales' cached? True\n"
     ]
    }
   ],
   "source": [
    "# 7. Cache the the temporary table home_sales.\n",
    "# Cache the table\n",
    "spark.catalog.cacheTable(\"home_sales\")\n",
    "\n",
    "# Check if table is cached\n",
    "is_cached = spark.catalog.isCached(\"home_sales\")\n",
    "print(f\"Is 'home_sales' cached? {is_cached}\")\n"
   ]
  },
  {
   "cell_type": "code",
   "execution_count": null,
   "metadata": {
    "colab": {
     "base_uri": "https://localhost:8080/"
    },
    "id": "4opVhbvxtL-i",
    "outputId": "38ec8487-795f-4550-b50c-fcc6f2b7c769"
   },
   "outputs": [],
   "source": [
    "# 8. Check if the table is cached.\n",
    "#see above please\n",
    "spark.catalog.isCached('home_sales')"
   ]
  },
  {
   "cell_type": "code",
   "execution_count": 11,
   "metadata": {
    "colab": {
     "base_uri": "https://localhost:8080/"
    },
    "id": "5GnL46lwTSEk",
    "outputId": "09a16c73-194d-4371-95d1-ee64fe83b91c"
   },
   "outputs": [
    {
     "name": "stdout",
     "output_type": "stream",
     "text": [
      "+----+----------+\n",
      "|view| avg_price|\n",
      "+----+----------+\n",
      "|  91|1137372.73|\n",
      "|  97|1129040.15|\n",
      "|  84|1117233.13|\n",
      "|  75|1114042.94|\n",
      "|  89|1107839.15|\n",
      "|  78|1080649.37|\n",
      "|  77|1076205.56|\n",
      "|  87| 1072285.2|\n",
      "|  86|1070444.25|\n",
      "|  82| 1063498.0|\n",
      "|  90|1062654.16|\n",
      "|  99|1061201.42|\n",
      "|  76|1058802.78|\n",
      "|  85|1056336.74|\n",
      "|  95| 1054325.6|\n",
      "|  98|1053739.33|\n",
      "|  81|1053472.79|\n",
      "|  83|1033965.93|\n",
      "|  94| 1033536.2|\n",
      "|  88|1031719.35|\n",
      "+----+----------+\n",
      "only showing top 20 rows\n",
      "\n",
      "Cached query runtime: 11.07 seconds\n"
     ]
    }
   ],
   "source": [
    "# 9. Using the cached data, run the last query above, that calculates \n",
    "# the average price of a home per \"view\" rating, rounded to two decimal places,\n",
    "# having an average home price greater than or equal to $350,000. \n",
    "# Determine the runtime and compare it to the uncached runtime.\n",
    "\n",
    "start_time = time.time()\n",
    "\n",
    "result4_cached = spark.sql(query4)\n",
    "result4_cached.show()\n",
    "\n",
    "end_time = time.time()\n",
    "cached_runtime = end_time - start_time\n",
    "print(f\"Cached query runtime: {cached_runtime:.2f} seconds\")\n",
    "\n"
   ]
  },
  {
   "cell_type": "code",
   "execution_count": 10,
   "metadata": {
    "id": "Qm12WN9isHBR"
   },
   "outputs": [
    {
     "ename": "NameError",
     "evalue": "name 'df' is not defined",
     "output_type": "error",
     "traceback": [
      "\u001b[1;31m---------------------------------------------------------------------------\u001b[0m",
      "\u001b[1;31mNameError\u001b[0m                                 Traceback (most recent call last)",
      "Cell \u001b[1;32mIn[10], line 3\u001b[0m\n\u001b[0;32m      1\u001b[0m \u001b[38;5;66;03m# 10. Partition by the \"date_built\" field on the formatted parquet home sales data \u001b[39;00m\n\u001b[0;32m      2\u001b[0m \u001b[38;5;66;03m# Write the data to parquet format partitioned by date_built\u001b[39;00m\n\u001b[1;32m----> 3\u001b[0m df\u001b[38;5;241m.\u001b[39mwrite\u001b[38;5;241m.\u001b[39mpartitionBy(\u001b[38;5;124m\"\u001b[39m\u001b[38;5;124mdate_built\u001b[39m\u001b[38;5;124m\"\u001b[39m)\u001b[38;5;241m.\u001b[39mparquet(\u001b[38;5;124m\"\u001b[39m\u001b[38;5;124m/mnt/data/home_sales_parquet\u001b[39m\u001b[38;5;124m\"\u001b[39m, mode\u001b[38;5;241m=\u001b[39m\u001b[38;5;124m\"\u001b[39m\u001b[38;5;124moverwrite\u001b[39m\u001b[38;5;124m\"\u001b[39m)\n",
      "\u001b[1;31mNameError\u001b[0m: name 'df' is not defined"
     ]
    }
   ],
   "source": [
    "# 10. Partition by the \"date_built\" field on the formatted parquet home sales data \n",
    "# Write the data to parquet format partitioned by date_built\n",
    "df.write.partitionBy(\"date_built\").parquet(\"/mnt/data/home_sales_parquet\", mode=\"overwrite\")\n",
    "\n"
   ]
  },
  {
   "cell_type": "code",
   "execution_count": 11,
   "metadata": {
    "id": "AZ7BgY61sRqY"
   },
   "outputs": [
    {
     "ename": "NameError",
     "evalue": "name 'spark' is not defined",
     "output_type": "error",
     "traceback": [
      "\u001b[1;31m---------------------------------------------------------------------------\u001b[0m",
      "\u001b[1;31mNameError\u001b[0m                                 Traceback (most recent call last)",
      "Cell \u001b[1;32mIn[11], line 3\u001b[0m\n\u001b[0;32m      1\u001b[0m \u001b[38;5;66;03m# 11. Read the formatted parquet data.\u001b[39;00m\n\u001b[0;32m      2\u001b[0m \u001b[38;5;66;03m# Read the parquet data into a new DataFrame and create a temporary table\u001b[39;00m\n\u001b[1;32m----> 3\u001b[0m df_parquet \u001b[38;5;241m=\u001b[39m spark\u001b[38;5;241m.\u001b[39mread\u001b[38;5;241m.\u001b[39mparquet(\u001b[38;5;124m\"\u001b[39m\u001b[38;5;124m/mnt/data/home_sales_parquet\u001b[39m\u001b[38;5;124m\"\u001b[39m)\n\u001b[0;32m      4\u001b[0m df_parquet\u001b[38;5;241m.\u001b[39mcreateOrReplaceTempView(\u001b[38;5;124m\"\u001b[39m\u001b[38;5;124mhome_sales_parquet\u001b[39m\u001b[38;5;124m\"\u001b[39m)\n",
      "\u001b[1;31mNameError\u001b[0m: name 'spark' is not defined"
     ]
    }
   ],
   "source": [
    "# 11. Read the formatted parquet data.\n",
    "# Read the parquet data into a new DataFrame and create a temporary table\n",
    "df_parquet = spark.read.parquet(\"/mnt/data/home_sales_parquet\")\n",
    "df_parquet.createOrReplaceTempView(\"home_sales_parquet\")\n",
    "\n"
   ]
  },
  {
   "cell_type": "code",
   "execution_count": null,
   "metadata": {
    "id": "J6MJkHfvVcvh"
   },
   "outputs": [],
   "source": [
    "# 12. Create a temporary table for the parquet data.\n",
    "# Read the parquet data into a new DataFrame and create a temporary table\n",
    "#see above\n"
   ]
  },
  {
   "cell_type": "code",
   "execution_count": 12,
   "metadata": {
    "colab": {
     "base_uri": "https://localhost:8080/"
    },
    "id": "G_Vhb52rU1Sn",
    "outputId": "a0b8d0c4-55ed-4c6c-bfd8-4c8c5334838e"
   },
   "outputs": [
    {
     "ename": "NameError",
     "evalue": "name 'time' is not defined",
     "output_type": "error",
     "traceback": [
      "\u001b[1;31m---------------------------------------------------------------------------\u001b[0m",
      "\u001b[1;31mNameError\u001b[0m                                 Traceback (most recent call last)",
      "Cell \u001b[1;32mIn[12], line 6\u001b[0m\n\u001b[0;32m      1\u001b[0m \u001b[38;5;66;03m# 13. Using the parquet DataFrame, run the last query above, that calculates \u001b[39;00m\n\u001b[0;32m      2\u001b[0m \u001b[38;5;66;03m# the average price of a home per \"view\" rating, rounded to two decimal places,\u001b[39;00m\n\u001b[0;32m      3\u001b[0m \u001b[38;5;66;03m# having an average home price greater than or equal to $350,000. \u001b[39;00m\n\u001b[0;32m      4\u001b[0m \u001b[38;5;66;03m# Determine the runtime and compare it to the cached runtime.\u001b[39;00m\n\u001b[0;32m      5\u001b[0m \u001b[38;5;66;03m# Run the query on the parquet data\u001b[39;00m\n\u001b[1;32m----> 6\u001b[0m start_time_parquet \u001b[38;5;241m=\u001b[39m time\u001b[38;5;241m.\u001b[39mtime()\n\u001b[0;32m      7\u001b[0m result_4_parquet \u001b[38;5;241m=\u001b[39m spark\u001b[38;5;241m.\u001b[39msql(query_4)\n\u001b[0;32m      8\u001b[0m result_4_parquet\u001b[38;5;241m.\u001b[39mshow()\n",
      "\u001b[1;31mNameError\u001b[0m: name 'time' is not defined"
     ]
    }
   ],
   "source": [
    "# 13. Using the parquet DataFrame, run the last query above, that calculates \n",
    "# the average price of a home per \"view\" rating, rounded to two decimal places,\n",
    "# having an average home price greater than or equal to $350,000. \n",
    "# Determine the runtime and compare it to the cached runtime.\n",
    "# Run the query on the parquet data\n",
    "start_time_parquet = time.time()\n",
    "result_4_parquet = spark.sql(query_4)\n",
    "result_4_parquet.show()\n",
    "end_time_parquet = time.time()\n",
    "\n",
    "runtime_parquet = end_time_parquet - start_time_parquet\n",
    "print(f\"Runtime (parquet): {runtime_parquet} seconds\")\n"
   ]
  },
  {
   "cell_type": "code",
   "execution_count": 13,
   "metadata": {
    "colab": {
     "base_uri": "https://localhost:8080/"
    },
    "id": "hjjYzQGjtbq8",
    "outputId": "830549fd-bb41-451b-9183-5ebf6e3e470b"
   },
   "outputs": [
    {
     "ename": "NameError",
     "evalue": "name 'spark' is not defined",
     "output_type": "error",
     "traceback": [
      "\u001b[1;31m---------------------------------------------------------------------------\u001b[0m",
      "\u001b[1;31mNameError\u001b[0m                                 Traceback (most recent call last)",
      "Cell \u001b[1;32mIn[13], line 3\u001b[0m\n\u001b[0;32m      1\u001b[0m \u001b[38;5;66;03m# 14. Uncache the home_sales temporary table.\u001b[39;00m\n\u001b[0;32m      2\u001b[0m \u001b[38;5;66;03m# Uncache the temporary table\u001b[39;00m\n\u001b[1;32m----> 3\u001b[0m spark\u001b[38;5;241m.\u001b[39mcatalog\u001b[38;5;241m.\u001b[39muncacheTable(\u001b[38;5;124m\"\u001b[39m\u001b[38;5;124mhome_sales\u001b[39m\u001b[38;5;124m\"\u001b[39m)\n",
      "\u001b[1;31mNameError\u001b[0m: name 'spark' is not defined"
     ]
    }
   ],
   "source": [
    "# 14. Uncache the home_sales temporary table.\n",
    "# Uncache the temporary table\n",
    "spark.catalog.uncacheTable(\"home_sales\")\n"
   ]
  },
  {
   "cell_type": "code",
   "execution_count": 14,
   "metadata": {
    "colab": {
     "base_uri": "https://localhost:8080/"
    },
    "id": "Sy9NBvO7tlmm",
    "outputId": "be73e0e3-5e85-4794-aad9-025fb6fa84a7"
   },
   "outputs": [
    {
     "ename": "NameError",
     "evalue": "name 'spark' is not defined",
     "output_type": "error",
     "traceback": [
      "\u001b[1;31m---------------------------------------------------------------------------\u001b[0m",
      "\u001b[1;31mNameError\u001b[0m                                 Traceback (most recent call last)",
      "Cell \u001b[1;32mIn[14], line 3\u001b[0m\n\u001b[0;32m      1\u001b[0m \u001b[38;5;66;03m# 15. Check if the home_sales is no longer cached\u001b[39;00m\n\u001b[0;32m      2\u001b[0m \u001b[38;5;66;03m# Verify if the table is uncached\u001b[39;00m\n\u001b[1;32m----> 3\u001b[0m is_cached_after \u001b[38;5;241m=\u001b[39m spark\u001b[38;5;241m.\u001b[39mcatalog\u001b[38;5;241m.\u001b[39misCached(\u001b[38;5;124m\"\u001b[39m\u001b[38;5;124mhome_sales\u001b[39m\u001b[38;5;124m\"\u001b[39m)\n\u001b[0;32m      4\u001b[0m \u001b[38;5;28mprint\u001b[39m(\u001b[38;5;124mf\u001b[39m\u001b[38;5;124m\"\u001b[39m\u001b[38;5;124mIs home_sales table cached after uncache? \u001b[39m\u001b[38;5;132;01m{\u001b[39;00mis_cached_after\u001b[38;5;132;01m}\u001b[39;00m\u001b[38;5;124m\"\u001b[39m)\n",
      "\u001b[1;31mNameError\u001b[0m: name 'spark' is not defined"
     ]
    }
   ],
   "source": [
    "# 15. Check if the home_sales is no longer cached\n",
    "# Verify if the table is uncached\n",
    "is_cached_after = spark.catalog.isCached(\"home_sales\")\n",
    "print(f\"Is home_sales table cached after uncache? {is_cached_after}\")\n",
    "\n"
   ]
  },
  {
   "cell_type": "code",
   "execution_count": null,
   "metadata": {},
   "outputs": [],
   "source": []
  }
 ],
 "metadata": {
  "colab": {
   "collapsed_sections": [],
   "name": "Copy of Home_Sales_solution.ipynb",
   "provenance": []
  },
  "kernelspec": {
   "display_name": "Python 3 (ipykernel)",
   "language": "python",
   "name": "python3"
  },
  "language_info": {
   "codemirror_mode": {
    "name": "ipython",
    "version": 3
   },
   "file_extension": ".py",
   "mimetype": "text/x-python",
   "name": "python",
   "nbconvert_exporter": "python",
   "pygments_lexer": "ipython3",
   "version": "3.11.5"
  },
  "nteract": {
   "version": "0.28.0"
  }
 },
 "nbformat": 4,
 "nbformat_minor": 1
}
